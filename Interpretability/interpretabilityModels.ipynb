{
 "cells": [
  {
   "attachments": {},
   "cell_type": "markdown",
   "metadata": {},
   "source": [
    "### Sources\n",
    "- https://shap.readthedocs.io/en/latest/example_notebooks/overviews/An%20introduction%20to%20explainable%20AI%20with%20Shapley%20values.html\n",
    "- https://towardsdatascience.com/interpretable-machine-learning-models-aef0c7be3fd9"
   ]
  },
  {
   "cell_type": "code",
   "execution_count": 3,
   "metadata": {},
   "outputs": [
    {
     "name": "stderr",
     "output_type": "stream",
     "text": [
      "c:\\Users\\emilh\\anaconda3\\envs\\ml\\lib\\site-packages\\tqdm\\auto.py:22: TqdmWarning: IProgress not found. Please update jupyter and ipywidgets. See https://ipywidgets.readthedocs.io/en/stable/user_install.html\n",
      "  from .autonotebook import tqdm as notebook_tqdm\n"
     ]
    }
   ],
   "source": [
    "import numpy as np\n",
    "import shap\n",
    "import pandas as pd\n"
   ]
  },
  {
   "cell_type": "code",
   "execution_count": 5,
   "metadata": {},
   "outputs": [
    {
     "name": "stdout",
     "output_type": "stream",
     "text": [
      "   time_left  ct_score  t_score       map  bomb_planted  ct_health  t_health  \\\n",
      "0     175.00       0.0      0.0  de_dust2         False      500.0     500.0   \n",
      "1     156.03       0.0      0.0  de_dust2         False      500.0     500.0   \n",
      "2      96.03       0.0      0.0  de_dust2         False      391.0     400.0   \n",
      "3      76.03       0.0      0.0  de_dust2         False      391.0     400.0   \n",
      "4     174.97       1.0      0.0  de_dust2         False      500.0     500.0   \n",
      "5     114.97       1.0      0.0  de_dust2         False      500.0     500.0   \n",
      "6      94.97       1.0      0.0  de_dust2         False      295.0     111.0   \n",
      "7      74.97       1.0      0.0  de_dust2         False      295.0     111.0   \n",
      "8      54.97       1.0      0.0  de_dust2         False      249.0      89.0   \n",
      "9     174.97       2.0      0.0  de_dust2         False      500.0     500.0   \n",
      "\n",
      "   ct_armor  t_armor  ct_money  ...  t_grenade_flashbang  \\\n",
      "0       0.0      0.0    4000.0  ...                  0.0   \n",
      "1     400.0    300.0     600.0  ...                  0.0   \n",
      "2     294.0    200.0     750.0  ...                  0.0   \n",
      "3     294.0    200.0     750.0  ...                  0.0   \n",
      "4     192.0      0.0   18350.0  ...                  0.0   \n",
      "5     500.0      0.0    1750.0  ...                  0.0   \n",
      "6     296.0      0.0    1700.0  ...                  0.0   \n",
      "7     296.0      0.0    1700.0  ...                  0.0   \n",
      "8     269.0      0.0    2300.0  ...                  0.0   \n",
      "9     196.0      0.0   19800.0  ...                  0.0   \n",
      "\n",
      "   ct_grenade_smokegrenade  t_grenade_smokegrenade  \\\n",
      "0                      0.0                     0.0   \n",
      "1                      0.0                     2.0   \n",
      "2                      0.0                     2.0   \n",
      "3                      0.0                     0.0   \n",
      "4                      0.0                     0.0   \n",
      "5                      3.0                     0.0   \n",
      "6                      1.0                     0.0   \n",
      "7                      1.0                     0.0   \n",
      "8                      1.0                     0.0   \n",
      "9                      1.0                     0.0   \n",
      "\n",
      "   ct_grenade_incendiarygrenade  t_grenade_incendiarygrenade  \\\n",
      "0                           0.0                          0.0   \n",
      "1                           0.0                          0.0   \n",
      "2                           0.0                          0.0   \n",
      "3                           0.0                          0.0   \n",
      "4                           0.0                          0.0   \n",
      "5                           1.0                          0.0   \n",
      "6                           0.0                          0.0   \n",
      "7                           0.0                          0.0   \n",
      "8                           0.0                          0.0   \n",
      "9                           0.0                          0.0   \n",
      "\n",
      "   ct_grenade_molotovgrenade  t_grenade_molotovgrenade  \\\n",
      "0                        0.0                       0.0   \n",
      "1                        0.0                       0.0   \n",
      "2                        0.0                       0.0   \n",
      "3                        0.0                       0.0   \n",
      "4                        0.0                       0.0   \n",
      "5                        0.0                       0.0   \n",
      "6                        0.0                       0.0   \n",
      "7                        0.0                       0.0   \n",
      "8                        0.0                       0.0   \n",
      "9                        0.0                       0.0   \n",
      "\n",
      "   ct_grenade_decoygrenade  t_grenade_decoygrenade  round_winner  \n",
      "0                      0.0                     0.0            CT  \n",
      "1                      0.0                     0.0            CT  \n",
      "2                      0.0                     0.0            CT  \n",
      "3                      0.0                     0.0            CT  \n",
      "4                      0.0                     0.0            CT  \n",
      "5                      0.0                     0.0            CT  \n",
      "6                      0.0                     0.0            CT  \n",
      "7                      0.0                     0.0            CT  \n",
      "8                      0.0                     0.0            CT  \n",
      "9                      0.0                     0.0            CT  \n",
      "\n",
      "[10 rows x 97 columns]\n"
     ]
    }
   ],
   "source": [
    "data = pd.read_csv('csgo_round_snapshots.csv')\n",
    "print(data.head(10))\n",
    "print(data.describe())"
   ]
  }
 ],
 "metadata": {
  "kernelspec": {
   "display_name": "ml",
   "language": "python",
   "name": "python3"
  },
  "language_info": {
   "codemirror_mode": {
    "name": "ipython",
    "version": 3
   },
   "file_extension": ".py",
   "mimetype": "text/x-python",
   "name": "python",
   "nbconvert_exporter": "python",
   "pygments_lexer": "ipython3",
   "version": "3.10.9"
  },
  "orig_nbformat": 4,
  "vscode": {
   "interpreter": {
    "hash": "2d40ad807c4171670c95b711e3c16e11d8e1c1ffefef09cdd458acb82d9eb7a0"
   }
  }
 },
 "nbformat": 4,
 "nbformat_minor": 2
}
